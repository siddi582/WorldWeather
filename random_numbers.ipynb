{
 "cells": [
  {
   "cell_type": "code",
   "execution_count": 1,
   "id": "b53d735c",
   "metadata": {},
   "outputs": [],
   "source": [
    "#Import the random module\n",
    "import random"
   ]
  },
  {
   "cell_type": "code",
   "execution_count": 2,
   "id": "73f3ceaa",
   "metadata": {},
   "outputs": [
    {
     "data": {
      "text/plain": [
       "0.09781602988280835"
      ]
     },
     "execution_count": 2,
     "metadata": {},
     "output_type": "execute_result"
    }
   ],
   "source": [
    "#Creates a random floating methods and displays values\n",
    "random.random()"
   ]
  },
  {
   "cell_type": "code",
   "execution_count": 3,
   "id": "c8cb2182",
   "metadata": {},
   "outputs": [
    {
     "data": {
      "text/plain": [
       "1"
      ]
     },
     "execution_count": 3,
     "metadata": {},
     "output_type": "execute_result"
    }
   ],
   "source": [
    "#Often we want a range, produces range between 1st and 2st value\n",
    "random.randint(-10,10)"
   ]
  },
  {
   "cell_type": "code",
   "execution_count": 4,
   "id": "df5f4b4d",
   "metadata": {},
   "outputs": [
    {
     "data": {
      "text/plain": [
       "1"
      ]
     },
     "execution_count": 4,
     "metadata": {},
     "output_type": "execute_result"
    }
   ],
   "source": [
    "#produces a range from the upper boundry to the lower boundry and selects randomly from integers within specified range but is limited by step argument\n",
    "random.randrange(-9,9,2)"
   ]
  },
  {
   "cell_type": "code",
   "execution_count": 5,
   "id": "548cab1d",
   "metadata": {},
   "outputs": [
    {
     "data": {
      "text/plain": [
       "7.7916009386385845"
      ]
     },
     "execution_count": 5,
     "metadata": {},
     "output_type": "execute_result"
    }
   ],
   "source": [
    "#to determine pool of most possible integers , -produce value from specified range, value with decimal places\n",
    "random.uniform(-10,10)"
   ]
  },
  {
   "cell_type": "code",
   "execution_count": 6,
   "id": "809b5387",
   "metadata": {},
   "outputs": [
    {
     "data": {
      "text/plain": [
       "-83"
      ]
     },
     "execution_count": 6,
     "metadata": {},
     "output_type": "execute_result"
    }
   ],
   "source": [
    "#randint is short for random integer. In the next cell type\n",
    "random.randint(-90, 90)"
   ]
  },
  {
   "cell_type": "code",
   "execution_count": 7,
   "id": "eb4c8198",
   "metadata": {},
   "outputs": [
    {
     "data": {
      "text/plain": [
       "0.7379611565592692"
      ]
     },
     "execution_count": 7,
     "metadata": {},
     "output_type": "execute_result"
    }
   ],
   "source": [
    "#Outputs a decimal point between 0 and 1.0\n",
    "random.random()"
   ]
  },
  {
   "cell_type": "code",
   "execution_count": 8,
   "id": "e43e06c2",
   "metadata": {},
   "outputs": [
    {
     "data": {
      "text/plain": [
       "68"
      ]
     },
     "execution_count": 8,
     "metadata": {},
     "output_type": "execute_result"
    }
   ],
   "source": [
    "#We get a single integer between -90 and 90 b/c we need 2 latitudes between -90 and 90\n",
    "random.randint(-90, 89)\n"
   ]
  },
  {
   "cell_type": "code",
   "execution_count": 9,
   "id": "c0901a38",
   "metadata": {},
   "outputs": [
    {
     "data": {
      "text/plain": [
       "0.42163941290548623"
      ]
     },
     "execution_count": 9,
     "metadata": {},
     "output_type": "execute_result"
    }
   ],
   "source": [
    "#We need 1500 random decimal numbers, since the prev line returns one integer, we'll try to get a single floating-point decimal\n",
    "random.random()"
   ]
  },
  {
   "cell_type": "code",
   "execution_count": 10,
   "id": "187b7cb8",
   "metadata": {},
   "outputs": [
    {
     "data": {
      "text/plain": [
       "-80.6921792753207"
      ]
     },
     "execution_count": 10,
     "metadata": {},
     "output_type": "execute_result"
    }
   ],
   "source": [
    "#to generate a floating-point decimal between -90 and 90, we can generate a random latitude . \n",
    "#We changed the lower range of randint() to get whole numbers up to 89 so when we add the floating-point decimal number, \n",
    "#we'll get latitudes between -89.99999 and 89.99999\n",
    "random_number = random.randint(-90, 89) + random.random()\n",
    "random_number"
   ]
  },
  {
   "cell_type": "code",
   "execution_count": 17,
   "id": "f45b57f0",
   "metadata": {},
   "outputs": [],
   "source": [
    "#write a algorithm that generates latitudes between -90 and 89, generates 10 random floating-point decimal lattitudes between -90 and 89\n",
    "#x = 1 #assign variable x to 1\n",
    "#latitudes = [] # initialize an empty list, latitudes\n",
    "#while x < 11: #created while loop where we generate a random latitude and add it to the list\n",
    "    #random_lat = random.randint(-90, 89) + random.random() #After the random latitude is added to the list we add one variable \"x\"\n",
    "    #latitudes.append(random_lat) # The while loop condition is checked again and will continue to run as long as x is less than 11\n",
    "   # x += 1\n",
    "    \n",
    "x = 1\n",
    "latitudes = []\n",
    "while x < 11:\n",
    "    random_lat = random.randint(-90, 89) + random.random()\n",
    "    latitudes.append(random_lat)\n",
    "    x += 1"
   ]
  },
  {
   "cell_type": "code",
   "execution_count": 21,
   "id": "7fc71dde",
   "metadata": {},
   "outputs": [
    {
     "data": {
      "text/plain": [
       "-18"
      ]
     },
     "execution_count": 21,
     "metadata": {},
     "output_type": "execute_result"
    }
   ],
   "source": [
    "#randrange() - include a lower limit and upper limit \n",
    "#there is an option to add a step parameter and set it equal to an integer which will generate increments of a given integer value\n",
    "#\n",
    "random.randrange(-90, 90, step=1)"
   ]
  },
  {
   "cell_type": "code",
   "execution_count": 22,
   "id": "caaa03fc",
   "metadata": {},
   "outputs": [
    {
     "data": {
      "text/plain": [
       "-39"
      ]
     },
     "execution_count": 22,
     "metadata": {},
     "output_type": "execute_result"
    }
   ],
   "source": [
    "#generates a floating point integer number between -90, 90\n",
    "random.randrange(-90, 90, step=3)"
   ]
  },
  {
   "cell_type": "code",
   "execution_count": 23,
   "id": "eb76e01e",
   "metadata": {},
   "outputs": [
    {
     "data": {
      "text/plain": [
       "-31.416339056844215"
      ]
     },
     "execution_count": 23,
     "metadata": {},
     "output_type": "execute_result"
    }
   ],
   "source": [
    "# This function might help us by combining the random.randrange() and random.random() functions to generate a \n",
    "#floating-point decimal between -90 and 90, like we did with the random.randint() and random.random() functions.\n",
    "#uniform function allows us to generate a floating point decimal number between 2 numbers in parenthesis \n",
    "random.uniform(-90, 90)"
   ]
  },
  {
   "cell_type": "code",
   "execution_count": null,
   "id": "bd63b889",
   "metadata": {},
   "outputs": [],
   "source": [
    "#One way to generate more than 1000 latitudes and longitudes is to chain NumPy module to random module\n",
    "#Creates an array of latitudes or longitudes between the lowest and hiehest valus, or -90 degrees and 90 degrees, and -180 and 180\n",
    "#To accomplish this, youse uniform() function from the random module"
   ]
  },
  {
   "cell_type": "code",
   "execution_count": 29,
   "id": "5d602670",
   "metadata": {},
   "outputs": [
    {
     "data": {
      "text/plain": [
       "14.98396108516593"
      ]
     },
     "execution_count": 29,
     "metadata": {},
     "output_type": "execute_result"
    }
   ],
   "source": [
    "#Import the NumPy module\n",
    "import numpy as np\n",
    "#To generate a floating-point decimal number,Adding zeos past the decimal places is optional\n",
    "np.random.uniform(-90.000, 90.000)"
   ]
  },
  {
   "cell_type": "code",
   "execution_count": 30,
   "id": "80545b22",
   "metadata": {},
   "outputs": [
    {
     "data": {
      "text/plain": [
       "array([ 74.52629492, -58.89372326, -11.67342025,  76.76083566,\n",
       "       -75.31348333,  70.18728446,  49.50378595, -77.023765  ,\n",
       "       -46.86081502,  58.77550761,  49.03688174, -41.56828697,\n",
       "       -35.48872631, -66.78174735, -17.84368019,  67.27847433,\n",
       "       -66.72893879, -68.41597378,  39.07540447, -49.85977258,\n",
       "        -4.7021127 ,  18.51331689,  40.07745595, -72.80675756,\n",
       "        75.267608  ,  24.42706679,  -2.91269946, -50.15767435,\n",
       "        14.99510779,  20.40652733,  37.17051286, -81.80749084,\n",
       "        25.75262057,  27.60401094,  16.50018581, -37.2664873 ,\n",
       "        80.67455634, -13.01420694, -38.97146455, -69.48499957,\n",
       "       -15.75281236, -13.62744172, -70.7697322 ,  14.99435441,\n",
       "        83.54621619,  89.57105178, -77.59256454,  50.08165868,\n",
       "       -89.91190743,  42.1563245 ])"
      ]
     },
     "execution_count": 30,
     "metadata": {},
     "output_type": "execute_result"
    }
   ],
   "source": [
    "#Output will be an array of 50 floating-point decimal numbers between -90.000 and 90.000\n",
    "np.random.uniform(-90.000, 90.000, size=50)"
   ]
  },
  {
   "cell_type": "code",
   "execution_count": 35,
   "id": "8fee1566",
   "metadata": {},
   "outputs": [],
   "source": [
    "#Import timeit to test how long a piece of code or function takes to run\n",
    "import timeit"
   ]
  },
  {
   "cell_type": "code",
   "execution_count": 36,
   "id": "43279206",
   "metadata": {},
   "outputs": [
    {
     "name": "stdout",
     "output_type": "stream",
     "text": [
      "13.2 µs ± 66.3 ns per loop (mean ± std. dev. of 7 runs, 100000 loops each)\n"
     ]
    }
   ],
   "source": [
    "%timeit np.random.uniform(-90.000, 90.000, size=1500)"
   ]
  },
  {
   "cell_type": "code",
   "execution_count": 39,
   "id": "bafc0d51",
   "metadata": {},
   "outputs": [
    {
     "name": "stdout",
     "output_type": "stream",
     "text": [
      "1.56 ms ± 2.47 µs per loop (mean ± std. dev. of 7 runs, 1000 loops each)\n"
     ]
    }
   ],
   "source": [
    "#The output is the amount of time it took to run this code, which is average of 13.2 microseconds \n",
    "#Refactor the code for the while loop with the %timeit magic command and write a for loop that will generate the 1,500 latitudes.\n",
    "def latitudes(size):\n",
    "    latitudes = []\n",
    "    x = 0\n",
    "    while x < (size):\n",
    "        random_lat = random.randint(-90, 90) + random.random()\n",
    "        latitudes.append(random_lat)\n",
    "        x += 1\n",
    "    return latitudes \n",
    "    \n",
    "#Call the function with 1500\n",
    "%timeit latitudes(1500)\n",
    "        "
   ]
  },
  {
   "cell_type": "code",
   "execution_count": null,
   "id": "2597f4b3",
   "metadata": {},
   "outputs": [],
   "source": [
    "#Using the np.random.unfirm(-90.000, 90.000, size=1500 is 100 times faster than using the function, and our code is one line)\n",
    "#Create Latitudes and Longitude Combos\n",
    "#First import the dependencies \n",
    "Import pandas as pd \n",
    "import matplotlib.pylot as plt\n",
    "import numpy as np"
   ]
  },
  {
   "cell_type": "code",
   "execution_count": 40,
   "id": "369b3db0",
   "metadata": {},
   "outputs": [
    {
     "data": {
      "text/plain": [
       "<zip at 0x2652b454a48>"
      ]
     },
     "execution_count": 40,
     "metadata": {},
     "output_type": "execute_result"
    }
   ],
   "source": [
    "#Generates latitudes and longitudes, but first stores them since we are creating arrays of latittudes and longitudes at random\n",
    "lats = np.random.uniform(low=-90.000, high= 90.000, size=1500)\n",
    "lngs = np.random.uniform(low=-180.000, high=180.000, size=1500)\n",
    "lat_lngs = zip(lats, lngs) #zip packs each pair of lats and lngs as having the ame index in their respective array into a tuple\n",
    "lat_lngs #if there are 51500 lats and longs there will be 1500 tuples of paired latitudes and longitudes, where each can be accessed \n",
    "#by the index of 0 and 1"
   ]
  }
 ],
 "metadata": {
  "kernelspec": {
   "display_name": "PythonData",
   "language": "python",
   "name": "pythondata"
  },
  "language_info": {
   "codemirror_mode": {
    "name": "ipython",
    "version": 3
   },
   "file_extension": ".py",
   "mimetype": "text/x-python",
   "name": "python",
   "nbconvert_exporter": "python",
   "pygments_lexer": "ipython3",
   "version": "3.7.13"
  }
 },
 "nbformat": 4,
 "nbformat_minor": 5
}
