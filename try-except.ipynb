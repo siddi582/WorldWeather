{
 "cells": [
  {
   "cell_type": "code",
   "execution_count": 28,
   "id": "1170da0a",
   "metadata": {},
   "outputs": [],
   "source": [
    "import requests as req\n",
    "from config import weather_api_key"
   ]
  },
  {
   "cell_type": "code",
   "execution_count": 29,
   "id": "57dc800f",
   "metadata": {},
   "outputs": [],
   "source": [
    "url = \"http://api.openweathermap.org/data/2.5/weather?units=Imperial&APPID=\" + weather_api_key"
   ]
  },
  {
   "cell_type": "code",
   "execution_count": 30,
   "id": "93346580",
   "metadata": {},
   "outputs": [],
   "source": [
    "#list of 5 bdifferent cities we get the temp for \n",
    "cities = [\"Pittsburg\", \"Austin\", \"New   York\", \"Los Angeles\", \"Seattle\"]"
   ]
  },
  {
   "cell_type": "code",
   "execution_count": 31,
   "id": "effde3e3",
   "metadata": {},
   "outputs": [
    {
     "name": "stdout",
     "output_type": "stream",
     "text": [
      "It is currently79.83degrees inPittsburg\n",
      "It is currently88.79degrees inAustin\n",
      "KeyError received for New   York\n",
      "It is currently71.26degrees inLos Angeles\n",
      "It is currently72.46degrees inSeattle\n"
     ]
    }
   ],
   "source": [
    "for city in cities:\n",
    "    try:\n",
    "        #create query with url\n",
    "        city_url = url + \"&q=\" + city\n",
    "        weather = req.get(city_url).json()\n",
    "        temp = weather['main']['temp']\n",
    "    except KeyError:\n",
    "        print('KeyError received for ' + city)\n",
    "        continue\n",
    "    print(\"It is currently\" + str(temp) + \"degrees in\" + city)\n"
   ]
  },
  {
   "cell_type": "code",
   "execution_count": 32,
   "id": "aff90035",
   "metadata": {},
   "outputs": [],
   "source": [
    " city_url = url + \"&q=\" + \"Boston\""
   ]
  },
  {
   "cell_type": "code",
   "execution_count": 33,
   "id": "91ca2ecd",
   "metadata": {},
   "outputs": [],
   "source": [
    "#We have handled request errors for getting the response from a valid city with an API call using conditional statements.\n",
    "#Now we'll learn how to handle errors while parsing weather data from a JSON file.\n",
    "\n",
    "#We'll add a try-except block to our code to prevent the API request from stopping prematurely \n",
    "#if the city_weather request isn't a valid response. If the request isn't valid, the code will not find the first item \n",
    "#requested, which is the dictionary \"coord\" with the code city_lat = city_weather[\"coord\"][\"lat\"],\n",
    "#and skip the city and continue to run.\n",
    "\n",
    "#The try-except block has similar syntax and structure as the if-else statement. The basic format is as follows:"
   ]
  },
  {
   "cell_type": "code",
   "execution_count": 35,
   "id": "89eeb530",
   "metadata": {},
   "outputs": [],
   "source": [
    "city_weather = req.get(city_url).json()"
   ]
  },
  {
   "cell_type": "code",
   "execution_count": 36,
   "id": "e5741db9",
   "metadata": {},
   "outputs": [
    {
     "data": {
      "text/plain": [
       "{'coord': {'lon': -71.0598, 'lat': 42.3584},\n",
       " 'weather': [{'id': 803,\n",
       "   'main': 'Clouds',\n",
       "   'description': 'broken clouds',\n",
       "   'icon': '04n'}],\n",
       " 'base': 'stations',\n",
       " 'main': {'temp': 64.54,\n",
       "  'feels_like': 64.83,\n",
       "  'temp_min': 60.67,\n",
       "  'temp_max': 66.47,\n",
       "  'pressure': 1012,\n",
       "  'humidity': 88},\n",
       " 'visibility': 10000,\n",
       " 'wind': {'speed': 8.05, 'deg': 290},\n",
       " 'clouds': {'all': 75},\n",
       " 'dt': 1665785448,\n",
       " 'sys': {'type': 2,\n",
       "  'id': 2013408,\n",
       "  'country': 'US',\n",
       "  'sunrise': 1665744940,\n",
       "  'sunset': 1665785067},\n",
       " 'timezone': -14400,\n",
       " 'id': 4930956,\n",
       " 'name': 'Boston',\n",
       " 'cod': 200}"
      ]
     },
     "execution_count": 36,
     "metadata": {},
     "output_type": "execute_result"
    }
   ],
   "source": [
    "city_weather"
   ]
  },
  {
   "cell_type": "code",
   "execution_count": 37,
   "id": "3cc04a36",
   "metadata": {},
   "outputs": [
    {
     "data": {
      "text/plain": [
       "'http://api.openweathermap.org/data/2.5/weather?units=Imperial&APPID=a9831745f59fe2176cb33a113544c424&q=Boston'"
      ]
     },
     "execution_count": 37,
     "metadata": {},
     "output_type": "execute_result"
    }
   ],
   "source": [
    "city_url"
   ]
  },
  {
   "cell_type": "code",
   "execution_count": null,
   "id": "f46aec2c",
   "metadata": {},
   "outputs": [],
   "source": []
  }
 ],
 "metadata": {
  "kernelspec": {
   "display_name": "Python 3 (ipykernel)",
   "language": "python",
   "name": "python3"
  },
  "language_info": {
   "codemirror_mode": {
    "name": "ipython",
    "version": 3
   },
   "file_extension": ".py",
   "mimetype": "text/x-python",
   "name": "python",
   "nbconvert_exporter": "python",
   "pygments_lexer": "ipython3",
   "version": "3.9.12"
  }
 },
 "nbformat": 4,
 "nbformat_minor": 5
}
