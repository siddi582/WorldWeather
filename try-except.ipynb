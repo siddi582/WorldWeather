{
 "cells": [
  {
   "cell_type": "code",
   "execution_count": 14,
   "id": "d78a61e9",
   "metadata": {},
   "outputs": [],
   "source": [
    "import requests as req\n",
    "from config import weather_api_key"
   ]
  },
  {
   "cell_type": "code",
   "execution_count": 15,
   "id": "69862967",
   "metadata": {},
   "outputs": [],
   "source": [
    "url = \"http://api.openweathermap.org/data/2.5/weather?units=Imperial&APPID=\" + weather_api_key"
   ]
  },
  {
   "cell_type": "code",
   "execution_count": 16,
   "id": "1d1cd7db",
   "metadata": {},
   "outputs": [],
   "source": [
    "#list of 5 bdifferent cities we get the temp for \n",
    "cities = [\"Pittsburg\", \"Austin\", \"New   York\", \"Los Angeles\", \"Seattle\"]"
   ]
  },
  {
   "cell_type": "code",
   "execution_count": 24,
   "id": "b19af650",
   "metadata": {},
   "outputs": [
    {
     "name": "stdout",
     "output_type": "stream",
     "text": [
      "It is currently78.21degrees inPittsburg\n",
      "It is currently88.7degrees inAustin\n",
      "KeyError received for New   York\n",
      "It is currently71.08degrees inLos Angeles\n",
      "It is currently71.44degrees inSeattle\n"
     ]
    }
   ],
   "source": [
    "for city in cities:\n",
    "    try:\n",
    "        #create query with url\n",
    "        city_url = url + \"&q=\" + city\n",
    "        weather = req.get(city_url).json()\n",
    "        temp = weather['main']['temp']\n",
    "    except KeyError:\n",
    "        print('KeyError received for ' + city)\n",
    "        continue\n",
    "    print(\"It is currently\" + str(temp) + \"degrees in\" + city)\n"
   ]
  },
  {
   "cell_type": "code",
   "execution_count": null,
   "id": "c03f15cf",
   "metadata": {},
   "outputs": [],
   "source": [
    "#We have handled request errors for getting the response from a valid city with an API call using conditional statements.\n",
    "#Now we'll learn how to handle errors while parsing weather data from a JSON file.\n",
    "\n",
    "#We'll add a try-except block to our code to prevent the API request from stopping prematurely \n",
    "#if the city_weather request isn't a valid response. If the request isn't valid, the code will not find the first item \n",
    "#requested, which is the dictionary \"coord\" with the code city_lat = city_weather[\"coord\"][\"lat\"],\n",
    "#and skip the city and continue to run.\n",
    "\n",
    "#The try-except block has similar syntax and structure as the if-else statement. The basic format is as follows:"
   ]
  },
  {
   "cell_type": "code",
   "execution_count": 22,
   "id": "406512aa",
   "metadata": {},
   "outputs": [
    {
     "name": "stdout",
     "output_type": "stream",
     "text": [
      "City not found. Skipping...\n",
      "-----------------------------\n",
      "Data Retrieval Complete      \n",
      "-----------------------------\n"
     ]
    }
   ],
   "source": []
  },
  {
   "cell_type": "code",
   "execution_count": null,
   "id": "907a27b3",
   "metadata": {},
   "outputs": [],
   "source": []
  }
 ],
 "metadata": {
  "kernelspec": {
   "display_name": "Python 3 (ipykernel)",
   "language": "python",
   "name": "python3"
  },
  "language_info": {
   "codemirror_mode": {
    "name": "ipython",
    "version": 3
   },
   "file_extension": ".py",
   "mimetype": "text/x-python",
   "name": "python",
   "nbconvert_exporter": "python",
   "pygments_lexer": "ipython3",
   "version": "3.9.12"
  }
 },
 "nbformat": 4,
 "nbformat_minor": 5
}
