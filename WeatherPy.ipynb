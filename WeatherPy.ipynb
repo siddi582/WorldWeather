{
 "cells": [
  {
   "cell_type": "code",
   "execution_count": 14,
   "id": "407079d7",
   "metadata": {},
   "outputs": [],
   "source": [
    "#Import the dependencies\n",
    "import pandas as pd\n",
    "import matplotlib.pyplot as plt\n",
    "import numpy as np\n",
    "\n",
    "from citipy import citipy\n",
    "from config import weather_api_key\n",
    "from datetime import datetime"
   ]
  },
  {
   "cell_type": "code",
   "execution_count": 15,
   "id": "911a55c6",
   "metadata": {},
   "outputs": [],
   "source": [
    "# Build URL for Weather API call using my weather_api_key\n",
    "url = \"http://api.openweathermap.org/data/2.5/weather?units=Imperial&APPID=\" + weather_api_key"
   ]
  },
  {
   "cell_type": "code",
   "execution_count": 16,
   "id": "e68152e3",
   "metadata": {},
   "outputs": [
    {
     "data": {
      "text/plain": [
       "<zip at 0x1ad50f3ad08>"
      ]
     },
     "execution_count": 16,
     "metadata": {},
     "output_type": "execute_result"
    }
   ],
   "source": [
    "# Create a set of random latitude and longitude combinations\n",
    "lats = np.random.uniform(low=-90.000, high=90.000, size=1500)\n",
    "lngs = np.random.uniform(low=-180.000, high=180.000, size=1500)\n",
    "lats_lngs = zip(lats, lngs)\n",
    "lats_lngs"
   ]
  },
  {
   "cell_type": "code",
   "execution_count": 17,
   "id": "ef430a5b",
   "metadata": {},
   "outputs": [],
   "source": [
    "#Add the latitudes and longitudes to a list\n",
    "coordinates = list(lat_lngs) "
   ]
  },
  {
   "cell_type": "code",
   "execution_count": 18,
   "id": "7bccc1ba",
   "metadata": {},
   "outputs": [],
   "source": [
    "#Use the print() function to display the latitude and longitude combination; You can only unzip a zipped tuple once before it is removed from computers memory\n",
    "for coordinate in coordinates:\n",
    "    print(coordinate[0], coordinate[1])\n",
    "    #outputs lat and lng coordinates, once we have those coordinates we iterate through the list of tuples and find the nearest city"
   ]
  },
  {
   "cell_type": "code",
   "execution_count": 19,
   "id": "bb4249fb",
   "metadata": {},
   "outputs": [],
   "source": [
    "import requests as req\n",
    "from config import weather_api_key"
   ]
  },
  {
   "cell_type": "code",
   "execution_count": 20,
   "id": "d4c99c76",
   "metadata": {},
   "outputs": [],
   "source": [
    "url = \"http://api.openweathermap.org/data/2.5/weather?units=Imperial&APPID=\"\n",
    "city =\"London\" #google open api weather documentation"
   ]
  },
  {
   "cell_type": "code",
   "execution_count": 21,
   "id": "1862ebdb",
   "metadata": {},
   "outputs": [],
   "source": [
    "import time\n",
    "from datetime import datetime"
   ]
  },
  {
   "cell_type": "code",
   "execution_count": 22,
   "id": "d2953adb",
   "metadata": {},
   "outputs": [
    {
     "name": "stdout",
     "output_type": "stream",
     "text": [
      "Beginning Data Retrieval     \n",
      "-----------------------------\n"
     ]
    }
   ],
   "source": [
    "# Create an empty list to hold the weather data.\n",
    "city_data = []\n",
    "# Print the beginning of the logging.\n",
    "print(\"Beginning Data Retrieval     \")\n",
    "print(\"-----------------------------\")\n",
    "\n",
    "# Create counters.\n",
    "record_count = 1\n",
    "set_count = 1\n",
    "\n",
    "#Initialized the counters at 1 b/c we want the first iteration of the logging for each recorded response"
   ]
  },
  {
   "cell_type": "code",
   "execution_count": 23,
   "id": "ddd82e6c",
   "metadata": {},
   "outputs": [],
   "source": [
    "# Loop through all the cities in our list.\n",
    "for i in range(len(city)):\n",
    "\n",
    "    # Group cities in sets of 50 for logging purposes.\n",
    "    if (i % 50 == 0 and i >= 50):\n",
    "        set_count += 1\n",
    "        record_count = 1\n",
    "        time.sleep(60)\n",
    "\n",
    "    # Create endpoint URL with each city.\n",
    "    city_url = url + \"&q=\" + city[i]"
   ]
  },
  {
   "cell_type": "code",
   "execution_count": null,
   "id": "8160670d",
   "metadata": {},
   "outputs": [],
   "source": []
  },
  {
   "cell_type": "code",
   "execution_count": 12,
   "id": "645c46a3",
   "metadata": {},
   "outputs": [
    {
     "name": "stdout",
     "output_type": "stream",
     "text": [
      "http://api.openweathermap.org/data/2.5/weather?units=Imperial&APPID=&q=L\n",
      "City not found. Skipping...\n",
      "http://api.openweathermap.org/data/2.5/weather?units=Imperial&APPID=&q=o\n",
      "City not found. Skipping...\n",
      "http://api.openweathermap.org/data/2.5/weather?units=Imperial&APPID=&q=n\n",
      "City not found. Skipping...\n",
      "http://api.openweathermap.org/data/2.5/weather?units=Imperial&APPID=&q=d\n",
      "City not found. Skipping...\n",
      "http://api.openweathermap.org/data/2.5/weather?units=Imperial&APPID=&q=o\n",
      "City not found. Skipping...\n",
      "http://api.openweathermap.org/data/2.5/weather?units=Imperial&APPID=&q=n\n",
      "City not found. Skipping...\n",
      "-----------------------------\n",
      "Data Retrieval Complete      \n",
      "-----------------------------\n"
     ]
    }
   ],
   "source": [
    "# Loop through all the cities in the list.\n",
    "for i, city in enumerate(city_data)\n",
    "\n",
    "    # Group cities in sets of 50 for logging purposes.\n",
    "    if (i % 50 == 0 and i >= 50):\n",
    "        set_count += 1\n",
    "        record_count = 1\n",
    "        time.sleep(60)\n",
    "\n",
    "    # Create endpoint URL with each city.\n",
    "    city_url = url + \"&q=\" + city.replace(\" \",\"+\")\n",
    "    print(city_url)\n",
    "    # Log the URL, record, and set numbers and the city.\n",
    "   # print(f\"Processing Record {record_count} of Set {set_count} | {city}\")\n",
    "    # Add 1 to the record count.\n",
    "   # record_count += 1\n",
    "# Run an API request for each of the cities.\n",
    "    try:\n",
    "        # Parse the JSON and retrieve data.\n",
    "        city_weather = requests.get(city_url).json()\n",
    "        # Parse out the needed data.\n",
    "        #city_lat = city_weather[\"coord\"][\"lat\"]\n",
    "        #city_lng = city_weather[\"coord\"][\"lon\"]\n",
    "        #city_max_temp = city_weather[\"main\"][\"temp_max\"]\n",
    "        #city_humidity = city_weather[\"main\"][\"humidity\"]\n",
    "        #city_clouds = city_weather[\"clouds\"][\"all\"]\n",
    "       # city_wind = city_weather[\"wind\"][\"speed\"]\n",
    "        #city_country = city_weather[\"sys\"][\"country\"]\n",
    "        # Convert the date to ISO standard.\n",
    "        #city_date = datetime.utcfromtimestamp(city_weather[\"dt\"]).strftime('%Y-%m-%d %H:%M:%S')\n",
    "        # Append the city information into city_data list.\n",
    "        #city_data.append({\"City\": city.title(),\n",
    "                          #\"Lat\": city_lat,\n",
    "                         # \"Lng\": city_lng,\n",
    "                          #\"Max Temp\": city_max_temp,\n",
    "                         # \"Humidity\": city_humidity,\n",
    "                          #\"Cloudiness\": city_clouds,\n",
    "                          #\"Wind Speed\": city_wind,\n",
    "                          #\"Country\": city_country,\n",
    "                         # \"Date\": city_date})\n",
    "\n",
    "# If an error is experienced, skip the city.\n",
    "    except:\n",
    "        print(\"City not found. Skipping...\")\n",
    "        pass\n",
    "\n",
    "# Indicate that Data Loading is complete.\n",
    "print(\"-----------------------------\")\n",
    "print(\"Data Retrieval Complete      \")\n",
    "print(\"-----------------------------\")"
   ]
  },
  {
   "cell_type": "code",
   "execution_count": null,
   "id": "dd3efa40",
   "metadata": {},
   "outputs": [],
   "source": [
    "#explaination of above code\n",
    "#1. for loop with enumerate() method and reference index and city in list \n",
    "#2. In the conditional statement, we check if the remainder of the index/50 is equal to 0 and if the index is greater or = to 50\n",
    "# If the statement is true, then set_c ount and the record_count are incremented by 1\n",
    "# Inside the conditional, we create the URL endpoint for each city. \n",
    "# However, we are removing the blank spaces in the city name and concatenating the city name with, city.replace(\" \",\"+\")\n",
    "# To find the corresponding weather daya for the city instead of finding the weather data for the first part of the city name\n",
    "#Also, we add a print statement that tells us the record count and set count and the city being processed \n",
    "#Then we add one to the record count before the next city is processed ; next we will retrieve the data from the JSON weather response\n",
    "#Make sure there is data to parse , if not the script might stop \n"
   ]
  },
  {
   "cell_type": "code",
   "execution_count": null,
   "id": "00ecf59b",
   "metadata": {},
   "outputs": [],
   "source": [
    "city_weather = requests.get(city_url).json()"
   ]
  },
  {
   "cell_type": "code",
   "execution_count": null,
   "id": "eb68e50e",
   "metadata": {},
   "outputs": [],
   "source": [
    "city_weather"
   ]
  },
  {
   "cell_type": "code",
   "execution_count": null,
   "id": "a3cf0f4d",
   "metadata": {},
   "outputs": [],
   "source": [
    "weather_api_key"
   ]
  },
  {
   "cell_type": "code",
   "execution_count": null,
   "id": "cc4a0e4d",
   "metadata": {},
   "outputs": [],
   "source": [
    "city_url"
   ]
  },
  {
   "cell_type": "code",
   "execution_count": 13,
   "id": "5e9fe033",
   "metadata": {},
   "outputs": [
    {
     "data": {
      "text/html": [
       "<div>\n",
       "<style scoped>\n",
       "    .dataframe tbody tr th:only-of-type {\n",
       "        vertical-align: middle;\n",
       "    }\n",
       "\n",
       "    .dataframe tbody tr th {\n",
       "        vertical-align: top;\n",
       "    }\n",
       "\n",
       "    .dataframe thead th {\n",
       "        text-align: right;\n",
       "    }\n",
       "</style>\n",
       "<table border=\"1\" class=\"dataframe\">\n",
       "  <thead>\n",
       "    <tr style=\"text-align: right;\">\n",
       "      <th></th>\n",
       "    </tr>\n",
       "  </thead>\n",
       "  <tbody>\n",
       "  </tbody>\n",
       "</table>\n",
       "</div>"
      ],
      "text/plain": [
       "Empty DataFrame\n",
       "Columns: []\n",
       "Index: []"
      ]
     },
     "execution_count": 13,
     "metadata": {},
     "output_type": "execute_result"
    }
   ],
   "source": [
    "city_data_df = pd.DataFrame(city_data)\n",
    "city_data_df.head(10)"
   ]
  },
  {
   "cell_type": "code",
   "execution_count": null,
   "id": "db579222",
   "metadata": {},
   "outputs": [],
   "source": []
  }
 ],
 "metadata": {
  "kernelspec": {
   "display_name": "PythonData",
   "language": "python",
   "name": "pythondata"
  },
  "language_info": {
   "codemirror_mode": {
    "name": "ipython",
    "version": 3
   },
   "file_extension": ".py",
   "mimetype": "text/x-python",
   "name": "python",
   "nbconvert_exporter": "python",
   "pygments_lexer": "ipython3",
   "version": "3.7.13"
  }
 },
 "nbformat": 4,
 "nbformat_minor": 5
}
