{
 "cells": [
  {
   "cell_type": "code",
   "execution_count": 1,
   "id": "407079d7",
   "metadata": {},
   "outputs": [],
   "source": [
    "#Import the dependencies\n",
    "import pandas as pd\n",
    "import matplotlib\n",
    "import matplotlib.pyplot as plt\n",
    "import numpy as np\n",
    "import requests\n",
    "\n",
    "from citipy import citipy\n",
    "from config import weather_api_key\n",
    "from datetime import datetime"
   ]
  },
  {
   "cell_type": "code",
   "execution_count": 2,
   "id": "bb4971b5",
   "metadata": {},
   "outputs": [],
   "source": [
    "# Build URL for Weather API call using my weather_api_key\n",
    "url = \"http://api.openweathermap.org/data/2.5/weather?units=Imperial&APPID=\" + weather_api_key"
   ]
  },
  {
   "cell_type": "code",
   "execution_count": 3,
   "id": "643ada28",
   "metadata": {},
   "outputs": [
    {
     "data": {
      "text/plain": [
       "<zip at 0x20e266065c8>"
      ]
     },
     "execution_count": 3,
     "metadata": {},
     "output_type": "execute_result"
    }
   ],
   "source": [
    "# Create a set of random latitude and longitude combinations\n",
    "lats = np.random.uniform(low=-90.000, high=90.000, size=1500)\n",
    "lngs = np.random.uniform(low=-180.000, high=180.000, size=1500)\n",
    "lats_lngs = zip(lats, lngs)\n",
    "lats_lngs"
   ]
  },
  {
   "cell_type": "code",
   "execution_count": 4,
   "id": "ef430a5b",
   "metadata": {},
   "outputs": [
    {
     "ename": "NameError",
     "evalue": "name 'lat_lngs' is not defined",
     "output_type": "error",
     "traceback": [
      "\u001b[1;31m---------------------------------------------------------------------------\u001b[0m",
      "\u001b[1;31mNameError\u001b[0m                                 Traceback (most recent call last)",
      "\u001b[1;32m~\\AppData\\Local\\Temp\\ipykernel_42980\\3862119605.py\u001b[0m in \u001b[0;36m<module>\u001b[1;34m\u001b[0m\n\u001b[0;32m      1\u001b[0m \u001b[1;31m#Add the latitudes and longitudes to a list\u001b[0m\u001b[1;33m\u001b[0m\u001b[1;33m\u001b[0m\u001b[1;33m\u001b[0m\u001b[0m\n\u001b[1;32m----> 2\u001b[1;33m \u001b[0mcoordinates\u001b[0m \u001b[1;33m=\u001b[0m \u001b[0mlist\u001b[0m\u001b[1;33m(\u001b[0m\u001b[0mlat_lngs\u001b[0m\u001b[1;33m)\u001b[0m\u001b[1;33m\u001b[0m\u001b[1;33m\u001b[0m\u001b[0m\n\u001b[0m",
      "\u001b[1;31mNameError\u001b[0m: name 'lat_lngs' is not defined"
     ]
    }
   ],
   "source": [
    "#Add the latitudes and longitudes to a list\n",
    "coordinates = list(lat_lngs) "
   ]
  },
  {
   "cell_type": "code",
   "execution_count": null,
   "id": "7bccc1ba",
   "metadata": {},
   "outputs": [],
   "source": [
    "#Use the print() function to display the latitude and longitude combination; You can only unzip a zipped tuple once before it is removed from computers memory\n",
    "for coordinate in coordinates:\n",
    "    print(coordinate[0], coordinate[1])\n",
    "    #outputs lat and lng coordinates, once we have those coordinates we iterate through the list of tuples and find the nearest city"
   ]
  },
  {
   "cell_type": "code",
   "execution_count": null,
   "id": "72d73878",
   "metadata": {},
   "outputs": [],
   "source": [
    "# Create an empty list to hold the weather data.\n",
    "city_data = []\n",
    "# Print the beginning of the logging.\n",
    "print(\"Beginning Data Retrieval     \")\n",
    "print(\"-----------------------------\")\n",
    "\n",
    "# Create counters.\n",
    "record_count = 1\n",
    "set_count = 1\n",
    "\n",
    "#Initialized the counters at 1 b/c we want the first iteration of the logging for each recorded response"
   ]
  },
  {
   "cell_type": "code",
   "execution_count": null,
   "id": "07e853f4",
   "metadata": {},
   "outputs": [],
   "source": [
    "# Loop through all the cities in our list.\n",
    "for i in range(len(city)):\n",
    "\n",
    "    # Group cities in sets of 50 for logging purposes.\n",
    "    if (i % 50 == 0 and i >= 50):\n",
    "        set_count += 1\n",
    "        record_count = 1\n",
    "        time.sleep(60)\n",
    "\n",
    "    # Create endpoint URL with each city.\n",
    "    city_url = url + \"&q=\" + city[i]"
   ]
  },
  {
   "cell_type": "code",
   "execution_count": null,
   "id": "c41ccd7f",
   "metadata": {},
   "outputs": [],
   "source": [
    "# Loop through all the cities in the list.\n",
    "for i, city in enumerate(city_data)\n",
    "\n",
    "    # Group cities in sets of 50 for logging purposes.\n",
    "    if (i % 50 == 0 and i >= 50):\n",
    "        set_count += 1\n",
    "        record_count = 1\n",
    "        time.sleep(60)\n",
    "\n",
    "    # Create endpoint URL with each city.\n",
    "    city_url = url + \"&q=\" + city.replace(\" \",\"+\")\n",
    "    print(city_url)\n",
    "    # Log the URL, record, and set numbers and the city.\n",
    "   # print(f\"Processing Record {record_count} of Set {set_count} | {city}\")\n",
    "    # Add 1 to the record count.\n",
    "   # record_count += 1\n",
    "# Run an API request for each of the cities.\n",
    "    try:\n",
    "        # Parse the JSON and retrieve data.\n",
    "        city_weather = requests.get(city_url).json()\n",
    "        # Parse out the needed data.\n",
    "        #city_lat = city_weather[\"coord\"][\"lat\"]\n",
    "        #city_lng = city_weather[\"coord\"][\"lon\"]\n",
    "        #city_max_temp = city_weather[\"main\"][\"temp_max\"]\n",
    "        #city_humidity = city_weather[\"main\"][\"humidity\"]\n",
    "        #city_clouds = city_weather[\"clouds\"][\"all\"]\n",
    "       # city_wind = city_weather[\"wind\"][\"speed\"]\n",
    "        #city_country = city_weather[\"sys\"][\"country\"]\n",
    "        # Convert the date to ISO standard.\n",
    "        #city_date = datetime.utcfromtimestamp(city_weather[\"dt\"]).strftime('%Y-%m-%d %H:%M:%S')\n",
    "        # Append the city information into city_data list.\n",
    "        #city_data.append({\"City\": city.title(),\n",
    "                          #\"Lat\": city_lat,\n",
    "                         # \"Lng\": city_lng,\n",
    "                          #\"Max Temp\": city_max_temp,\n",
    "                         # \"Humidity\": city_humidity,\n",
    "                          #\"Cloudiness\": city_clouds,\n",
    "                          #\"Wind Speed\": city_wind,\n",
    "                          #\"Country\": city_country,\n",
    "                         # \"Date\": city_date})\n",
    "\n",
    "# If an error is experienced, skip the city.\n",
    "    except:\n",
    "        print(\"City not found. Skipping...\")\n",
    "        pass\n",
    "\n",
    "# Indicate that Data Loading is complete.\n",
    "print(\"-----------------------------\")\n",
    "print(\"Data Retrieval Complete      \")\n",
    "print(\"-----------------------------\")"
   ]
  },
  {
   "cell_type": "code",
   "execution_count": null,
   "id": "4247c5e8",
   "metadata": {},
   "outputs": [],
   "source": [
    "#explaination of above code\n",
    "#1. for loop with enumerate() method and reference index and city in list \n",
    "#2. In the conditional statement, we check if the remainder of the index/50 is equal to 0 and if the index is greater or = to 50\n",
    "# If the statement is true, then set_c ount and the record_count are incremented by 1\n",
    "# Inside the conditional, we create the URL endpoint for each city. \n",
    "# However, we are removing the blank spaces in the city name and concatenating the city name with, city.replace(\" \",\"+\")\n",
    "# To find the corresponding weather daya for the city instead of finding the weather data for the first part of the city name\n",
    "#Also, we add a print statement that tells us the record count and set count and the city being processed \n",
    "#Then we add one to the record count before the next city is processed ; next we will retrieve the data from the JSON weather response\n",
    "#Make sure there is data to parse , if not the script might stop \n"
   ]
  },
  {
   "cell_type": "code",
   "execution_count": null,
   "id": "9dff14f7",
   "metadata": {},
   "outputs": [],
   "source": [
    "city_weather = requests.get(city_url).json()"
   ]
  },
  {
   "cell_type": "code",
   "execution_count": null,
   "id": "46ad8241",
   "metadata": {},
   "outputs": [],
   "source": [
    "city_weather"
   ]
  },
  {
   "cell_type": "code",
   "execution_count": null,
   "id": "3bc3061d",
   "metadata": {},
   "outputs": [],
   "source": [
    "weather_api_key"
   ]
  },
  {
   "cell_type": "code",
   "execution_count": null,
   "id": "a81a3ddb",
   "metadata": {},
   "outputs": [],
   "source": [
    "city_url"
   ]
  },
  {
   "cell_type": "code",
   "execution_count": null,
   "id": "97b48815",
   "metadata": {},
   "outputs": [],
   "source": [
    "city_data_df = pd.DataFrame(city_data)\n",
    "city_data_df.head(10)"
   ]
  },
  {
   "cell_type": "markdown",
   "id": "6ee893a2",
   "metadata": {},
   "source": [
    "# Linear Regression "
   ]
  },
  {
   "cell_type": "code",
   "execution_count": null,
   "id": "a9950358",
   "metadata": {},
   "outputs": [],
   "source": [
    "#Import linear regression from the SciPy stats module; \n",
    "from scipy.stats import linregress"
   ]
  },
  {
   "cell_type": "code",
   "execution_count": null,
   "id": "64e7c832",
   "metadata": {},
   "outputs": [],
   "source": [
    "# Create an equal number of latitudes and temperatures.\n",
    "lats = [42.5, 43.9, 8.1, 36.8, 79.9, 69.1, 25.7, 15.3, 12.7, 64.5]\n",
    "temps = [80.5, 75.3, 90.9, 90.0, 40.4, 62.3, 85.4, 79.6, 72.5, 72.0]"
   ]
  },
  {
   "cell_type": "code",
   "execution_count": null,
   "id": "17fc56e8",
   "metadata": {},
   "outputs": [],
   "source": [
    "# Perform linear regression. will take 2 arguments, the x and y and return slope, y itercept, r value, p-value and std.error\n",
    "(slope, intercept, r_value, p_value, std_err) = linregress(lats, temps)\n",
    "# Get the equation of the line.\n",
    "line_eq = \"y = \" + str(round(slope,2)) + \"x + \" + str(round(intercept,2))\n",
    "print(line_eq)\n",
    "print(f\"The p-value is: {p_value:.3f}\")"
   ]
  }
 ],
 "metadata": {
  "kernelspec": {
   "display_name": "PythonData",
   "language": "python",
   "name": "pythondata"
  },
  "language_info": {
   "codemirror_mode": {
    "name": "ipython",
    "version": 3
   },
   "file_extension": ".py",
   "mimetype": "text/x-python",
   "name": "python",
   "nbconvert_exporter": "python",
   "pygments_lexer": "ipython3",
   "version": "3.7.13"
  }
 },
 "nbformat": 4,
 "nbformat_minor": 5
}
